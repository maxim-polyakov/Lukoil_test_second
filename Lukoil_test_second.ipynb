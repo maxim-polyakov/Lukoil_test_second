{
 "cells": [
  {
   "cell_type": "markdown",
   "id": "af8fbe46-584c-4034-8d9c-bdc6f8a585ce",
   "metadata": {
    "jp-MarkdownHeadingCollapsed": true
   },
   "source": [
    "# Импорт библиотек"
   ]
  },
  {
   "cell_type": "code",
   "execution_count": 1,
   "id": "87f24b20-f43c-44bf-8d13-994c2dd45b10",
   "metadata": {},
   "outputs": [
    {
     "name": "stderr",
     "output_type": "stream",
     "text": [
      "C:\\Users\\maxim\\anaconda3\\envs\\py10\\lib\\site-packages\\tqdm\\auto.py:21: TqdmWarning: IProgress not found. Please update jupyter and ipywidgets. See https://ipywidgets.readthedocs.io/en/stable/user_install.html\n",
      "  from .autonotebook import tqdm as notebook_tqdm\n",
      "Importing plotly failed. Interactive plots will not work.\n"
     ]
    }
   ],
   "source": [
    "import pandas as pd\n",
    "from prophet import Prophet\n",
    "import pickle as p\n",
    "import matplotlib.pyplot as plt\n",
    "from sklearn.metrics import mean_squared_error, r2_score, mean_absolute_error\n",
    "import numpy as np"
   ]
  },
  {
   "cell_type": "markdown",
   "id": "edc1eb0a-b15d-4e9f-8477-aad3077d8a47",
   "metadata": {
    "jp-MarkdownHeadingCollapsed": true
   },
   "source": [
    "# Считывание и обработка данных"
   ]
  },
  {
   "cell_type": "markdown",
   "id": "1b707cc8-5c6d-493a-bf00-0ea0030c0e6f",
   "metadata": {},
   "source": [
    "Перед подачей датафрейма на вход перевел его из .hdf формата в .csv формат и поссчитал среднее значение всех датчиков."
   ]
  },
  {
   "cell_type": "code",
   "execution_count": 2,
   "id": "5f14aa62-88f9-43d6-ba3e-ac054ecef0af",
   "metadata": {},
   "outputs": [],
   "source": [
    "df = pd.read_csv('output.csv')"
   ]
  },
  {
   "cell_type": "markdown",
   "id": "e36f7b8f-9ff5-470a-9fc4-93b024277b3f",
   "metadata": {},
   "source": [
    "Формирую датафрейм для предсказания среднего значения по всем датчикам."
   ]
  },
  {
   "cell_type": "code",
   "execution_count": 3,
   "id": "981cc36e-9be2-4a2d-9f6a-9fcd6adbac02",
   "metadata": {},
   "outputs": [],
   "source": [
    "d = {'ds': df['TimeStamp'], 'y': df['target']}\n",
    "rdf = pd.DataFrame(data=d)"
   ]
  },
  {
   "cell_type": "code",
   "execution_count": 4,
   "id": "6422370d-6122-487e-99a5-9cf57c69e3ef",
   "metadata": {},
   "outputs": [
    {
     "data": {
      "text/html": [
       "<div>\n",
       "<style scoped>\n",
       "    .dataframe tbody tr th:only-of-type {\n",
       "        vertical-align: middle;\n",
       "    }\n",
       "\n",
       "    .dataframe tbody tr th {\n",
       "        vertical-align: top;\n",
       "    }\n",
       "\n",
       "    .dataframe thead th {\n",
       "        text-align: right;\n",
       "    }\n",
       "</style>\n",
       "<table border=\"1\" class=\"dataframe\">\n",
       "  <thead>\n",
       "    <tr style=\"text-align: right;\">\n",
       "      <th></th>\n",
       "      <th>ds</th>\n",
       "      <th>y</th>\n",
       "    </tr>\n",
       "  </thead>\n",
       "  <tbody>\n",
       "    <tr>\n",
       "      <th>0</th>\n",
       "      <td>2023-08-30</td>\n",
       "      <td>3157.442001</td>\n",
       "    </tr>\n",
       "    <tr>\n",
       "      <th>1</th>\n",
       "      <td>2023-08-30</td>\n",
       "      <td>3156.994669</td>\n",
       "    </tr>\n",
       "    <tr>\n",
       "      <th>2</th>\n",
       "      <td>2023-08-30</td>\n",
       "      <td>3158.797916</td>\n",
       "    </tr>\n",
       "    <tr>\n",
       "      <th>3</th>\n",
       "      <td>2023-08-30</td>\n",
       "      <td>3157.393767</td>\n",
       "    </tr>\n",
       "    <tr>\n",
       "      <th>4</th>\n",
       "      <td>2023-08-30</td>\n",
       "      <td>3158.723098</td>\n",
       "    </tr>\n",
       "  </tbody>\n",
       "</table>\n",
       "</div>"
      ],
      "text/plain": [
       "           ds            y\n",
       "0  2023-08-30  3157.442001\n",
       "1  2023-08-30  3156.994669\n",
       "2  2023-08-30  3158.797916\n",
       "3  2023-08-30  3157.393767\n",
       "4  2023-08-30  3158.723098"
      ]
     },
     "execution_count": 4,
     "metadata": {},
     "output_type": "execute_result"
    }
   ],
   "source": [
    "rdf.head()"
   ]
  },
  {
   "cell_type": "code",
   "execution_count": 5,
   "id": "f531b769-8a4a-4174-af33-ac09ad78591a",
   "metadata": {},
   "outputs": [],
   "source": [
    "rdf['ds'] = pd.to_datetime(rdf['ds'])"
   ]
  },
  {
   "cell_type": "code",
   "execution_count": 6,
   "id": "8b121067-8617-4185-aab3-8947e02e0d28",
   "metadata": {},
   "outputs": [
    {
     "data": {
      "text/html": [
       "<div>\n",
       "<style scoped>\n",
       "    .dataframe tbody tr th:only-of-type {\n",
       "        vertical-align: middle;\n",
       "    }\n",
       "\n",
       "    .dataframe tbody tr th {\n",
       "        vertical-align: top;\n",
       "    }\n",
       "\n",
       "    .dataframe thead th {\n",
       "        text-align: right;\n",
       "    }\n",
       "</style>\n",
       "<table border=\"1\" class=\"dataframe\">\n",
       "  <thead>\n",
       "    <tr style=\"text-align: right;\">\n",
       "      <th></th>\n",
       "      <th>ds</th>\n",
       "      <th>y</th>\n",
       "    </tr>\n",
       "  </thead>\n",
       "  <tbody>\n",
       "    <tr>\n",
       "      <th>123260</th>\n",
       "      <td>2024-10-31</td>\n",
       "      <td>2107.223503</td>\n",
       "    </tr>\n",
       "    <tr>\n",
       "      <th>123261</th>\n",
       "      <td>2024-10-31</td>\n",
       "      <td>2107.383913</td>\n",
       "    </tr>\n",
       "    <tr>\n",
       "      <th>123262</th>\n",
       "      <td>2024-10-31</td>\n",
       "      <td>2111.521593</td>\n",
       "    </tr>\n",
       "    <tr>\n",
       "      <th>123263</th>\n",
       "      <td>2024-10-31</td>\n",
       "      <td>2105.465290</td>\n",
       "    </tr>\n",
       "    <tr>\n",
       "      <th>123264</th>\n",
       "      <td>2024-10-31</td>\n",
       "      <td>2166.685843</td>\n",
       "    </tr>\n",
       "  </tbody>\n",
       "</table>\n",
       "</div>"
      ],
      "text/plain": [
       "               ds            y\n",
       "123260 2024-10-31  2107.223503\n",
       "123261 2024-10-31  2107.383913\n",
       "123262 2024-10-31  2111.521593\n",
       "123263 2024-10-31  2105.465290\n",
       "123264 2024-10-31  2166.685843"
      ]
     },
     "execution_count": 6,
     "metadata": {},
     "output_type": "execute_result"
    }
   ],
   "source": [
    "rdf.tail()"
   ]
  },
  {
   "cell_type": "code",
   "execution_count": 7,
   "id": "094b8b96-aa81-4beb-9c94-107790ce8fe9",
   "metadata": {},
   "outputs": [
    {
     "name": "stdout",
     "output_type": "stream",
     "text": [
      "<class 'pandas.core.frame.DataFrame'>\n",
      "RangeIndex: 123265 entries, 0 to 123264\n",
      "Data columns (total 2 columns):\n",
      " #   Column  Non-Null Count   Dtype         \n",
      "---  ------  --------------   -----         \n",
      " 0   ds      123265 non-null  datetime64[ns]\n",
      " 1   y       123265 non-null  float64       \n",
      "dtypes: datetime64[ns](1), float64(1)\n",
      "memory usage: 1.9 MB\n"
     ]
    }
   ],
   "source": [
    "rdf.info()"
   ]
  },
  {
   "cell_type": "code",
   "execution_count": 8,
   "id": "98c9b0b1-6d4d-4909-84a7-0e20eed9ee0a",
   "metadata": {},
   "outputs": [
    {
     "data": {
      "text/html": [
       "<div>\n",
       "<style scoped>\n",
       "    .dataframe tbody tr th:only-of-type {\n",
       "        vertical-align: middle;\n",
       "    }\n",
       "\n",
       "    .dataframe tbody tr th {\n",
       "        vertical-align: top;\n",
       "    }\n",
       "\n",
       "    .dataframe thead th {\n",
       "        text-align: right;\n",
       "    }\n",
       "</style>\n",
       "<table border=\"1\" class=\"dataframe\">\n",
       "  <thead>\n",
       "    <tr style=\"text-align: right;\">\n",
       "      <th></th>\n",
       "      <th>ds</th>\n",
       "      <th>y</th>\n",
       "    </tr>\n",
       "  </thead>\n",
       "  <tbody>\n",
       "    <tr>\n",
       "      <th>0</th>\n",
       "      <td>2023-08-30</td>\n",
       "      <td>3157.442001</td>\n",
       "    </tr>\n",
       "    <tr>\n",
       "      <th>1</th>\n",
       "      <td>2023-08-30</td>\n",
       "      <td>3156.994669</td>\n",
       "    </tr>\n",
       "    <tr>\n",
       "      <th>2</th>\n",
       "      <td>2023-08-30</td>\n",
       "      <td>3158.797916</td>\n",
       "    </tr>\n",
       "    <tr>\n",
       "      <th>3</th>\n",
       "      <td>2023-08-30</td>\n",
       "      <td>3157.393767</td>\n",
       "    </tr>\n",
       "    <tr>\n",
       "      <th>4</th>\n",
       "      <td>2023-08-30</td>\n",
       "      <td>3158.723098</td>\n",
       "    </tr>\n",
       "    <tr>\n",
       "      <th>...</th>\n",
       "      <td>...</td>\n",
       "      <td>...</td>\n",
       "    </tr>\n",
       "    <tr>\n",
       "      <th>123260</th>\n",
       "      <td>2024-10-31</td>\n",
       "      <td>2107.223503</td>\n",
       "    </tr>\n",
       "    <tr>\n",
       "      <th>123261</th>\n",
       "      <td>2024-10-31</td>\n",
       "      <td>2107.383913</td>\n",
       "    </tr>\n",
       "    <tr>\n",
       "      <th>123262</th>\n",
       "      <td>2024-10-31</td>\n",
       "      <td>2111.521593</td>\n",
       "    </tr>\n",
       "    <tr>\n",
       "      <th>123263</th>\n",
       "      <td>2024-10-31</td>\n",
       "      <td>2105.465290</td>\n",
       "    </tr>\n",
       "    <tr>\n",
       "      <th>123264</th>\n",
       "      <td>2024-10-31</td>\n",
       "      <td>2166.685843</td>\n",
       "    </tr>\n",
       "  </tbody>\n",
       "</table>\n",
       "<p>123265 rows × 2 columns</p>\n",
       "</div>"
      ],
      "text/plain": [
       "               ds            y\n",
       "0      2023-08-30  3157.442001\n",
       "1      2023-08-30  3156.994669\n",
       "2      2023-08-30  3158.797916\n",
       "3      2023-08-30  3157.393767\n",
       "4      2023-08-30  3158.723098\n",
       "...           ...          ...\n",
       "123260 2024-10-31  2107.223503\n",
       "123261 2024-10-31  2107.383913\n",
       "123262 2024-10-31  2111.521593\n",
       "123263 2024-10-31  2105.465290\n",
       "123264 2024-10-31  2166.685843\n",
       "\n",
       "[123265 rows x 2 columns]"
      ]
     },
     "execution_count": 8,
     "metadata": {},
     "output_type": "execute_result"
    }
   ],
   "source": [
    "rdf = rdf.dropna()\n",
    "rdf"
   ]
  },
  {
   "cell_type": "markdown",
   "id": "65b51cd1-458e-4c7b-87b3-8e6061ab5018",
   "metadata": {},
   "source": [
    "# Разведочный анализ данных"
   ]
  },
  {
   "cell_type": "markdown",
   "id": "bcd5a36d-be4f-44f9-b741-9223812f33cc",
   "metadata": {},
   "source": [
    "Строю диаграмму тренда средних значений по датасету, чтобы увидеть тренд для дальнейших предсказаний"
   ]
  },
  {
   "cell_type": "code",
   "execution_count": 9,
   "id": "916f6e74-6128-4f42-ac49-f0de106bd8fd",
   "metadata": {},
   "outputs": [
    {
     "data": {
      "image/png": "[encoded data removed]",
      "text/plain": [
       "<Figure size 640x480 with 1 Axes>"
      ]
     },
     "metadata": {},
     "output_type": "display_data"
    }
   ],
   "source": [
    "x = np.array(rdf['ds'])\n",
    "y = np.array(rdf['y'])\n",
    "\n",
    "plt.plot(x,y)\n",
    "plt.show()"
   ]
  },
  {
   "cell_type": "markdown",
   "id": "19fe3d67-ee9a-48b3-bf78-b6594ddce4a4",
   "metadata": {},
   "source": [
    "Следуя из графика среднее значение показателей датчика очень сильно варьируется, а также имеет выбросы показателей."
   ]
  },
  {
   "cell_type": "markdown",
   "id": "fac32c90-50e3-4c05-941c-5b7ce7a3beec",
   "metadata": {},
   "source": [
    "# Построение и обучение модели"
   ]
  },
  {
   "cell_type": "markdown",
   "id": "74bd9cbc-7e99-42d6-b180-2c2a8590b8a9",
   "metadata": {},
   "source": [
    "Строю модель"
   ]
  },
  {
   "cell_type": "code",
   "execution_count": 11,
   "id": "a1d9a1e7-e245-47ab-b641-941e1812c65e",
   "metadata": {},
   "outputs": [
    {
     "name": "stderr",
     "output_type": "stream",
     "text": [
      "22:06:21 - cmdstanpy - INFO - Chain [1] start processing\n",
      "22:07:41 - cmdstanpy - INFO - Chain [1] done processing\n"
     ]
    },
    {
     "data": {
      "text/plain": [
       "<prophet.forecaster.Prophet at 0x2352ef8fa60>"
      ]
     },
     "execution_count": 11,
     "metadata": {},
     "output_type": "execute_result"
    }
   ],
   "source": [
    "m = Prophet()\n",
    "m.fit(rdf)"
   ]
  },
  {
   "cell_type": "markdown",
   "id": "08124fbe-e167-4e46-b9c3-8447e0bd9616",
   "metadata": {},
   "source": [
    "Сохраняю построеную модель в файл"
   ]
  },
  {
   "cell_type": "code",
   "execution_count": 12,
   "id": "eeb53cb4-f8ab-4c09-8986-a543535a47ad",
   "metadata": {},
   "outputs": [],
   "source": [
    "modelname = 'PredictMidleMeasure.obj'\n",
    "with open(modelname, 'wb') as handle:\n",
    "    p.dump(m, handle, protocol=p.HIGHEST_PROTOCOL)"
   ]
  },
  {
   "cell_type": "markdown",
   "id": "f0bdec56-aace-4b83-98f2-89aa461e5818",
   "metadata": {},
   "source": [
    "# Использование и валидация модели"
   ]
  },
  {
   "cell_type": "markdown",
   "id": "eb2fd549-fa00-47a3-ad11-363cd036dc32",
   "metadata": {},
   "source": [
    "Читаю модель из файла"
   ]
  },
  {
   "cell_type": "code",
   "execution_count": 14,
   "id": "8cf9bd0f-46cf-470b-bbef-838bb72b5531",
   "metadata": {},
   "outputs": [],
   "source": [
    "modelname = 'PredictMidleMeasure.obj'\n",
    "\n",
    "with open(modelname, 'rb') as handle:\n",
    "    unpickler = p.Unpickler(handle)\n",
    "    m = unpickler.load()"
   ]
  },
  {
   "cell_type": "markdown",
   "id": "8c6b6600-441f-4256-a8b9-dac59b7dc86d",
   "metadata": {},
   "source": [
    "Использую модель для предсказаний"
   ]
  },
  {
   "cell_type": "code",
   "execution_count": 15,
   "id": "5496a23e-2393-43ed-b047-c40105fc404c",
   "metadata": {},
   "outputs": [],
   "source": [
    "future = m.make_future_dataframe(periods=365)\n",
    "forecast = m.predict(future)"
   ]
  },
  {
   "cell_type": "code",
   "execution_count": 154,
   "id": "8113c8a8-d551-4092-9a2a-f95e3d270f5b",
   "metadata": {},
   "outputs": [
    {
     "data": {
      "text/html": [
       "<div>\n",
       "<style scoped>\n",
       "    .dataframe tbody tr th:only-of-type {\n",
       "        vertical-align: middle;\n",
       "    }\n",
       "\n",
       "    .dataframe tbody tr th {\n",
       "        vertical-align: top;\n",
       "    }\n",
       "\n",
       "    .dataframe thead th {\n",
       "        text-align: right;\n",
       "    }\n",
       "</style>\n",
       "<table border=\"1\" class=\"dataframe\">\n",
       "  <thead>\n",
       "    <tr style=\"text-align: right;\">\n",
       "      <th></th>\n",
       "      <th>ds</th>\n",
       "      <th>trend</th>\n",
       "      <th>yhat_lower</th>\n",
       "      <th>yhat_upper</th>\n",
       "      <th>trend_lower</th>\n",
       "      <th>trend_upper</th>\n",
       "      <th>additive_terms</th>\n",
       "      <th>additive_terms_lower</th>\n",
       "      <th>additive_terms_upper</th>\n",
       "      <th>weekly</th>\n",
       "      <th>weekly_lower</th>\n",
       "      <th>weekly_upper</th>\n",
       "      <th>multiplicative_terms</th>\n",
       "      <th>multiplicative_terms_lower</th>\n",
       "      <th>multiplicative_terms_upper</th>\n",
       "      <th>yhat</th>\n",
       "    </tr>\n",
       "  </thead>\n",
       "  <tbody>\n",
       "    <tr>\n",
       "      <th>0</th>\n",
       "      <td>2023-08-30</td>\n",
       "      <td>2284.447853</td>\n",
       "      <td>1977.826979</td>\n",
       "      <td>2558.976958</td>\n",
       "      <td>2284.447853</td>\n",
       "      <td>2284.447853</td>\n",
       "      <td>-20.239028</td>\n",
       "      <td>-20.239028</td>\n",
       "      <td>-20.239028</td>\n",
       "      <td>-20.239028</td>\n",
       "      <td>-20.239028</td>\n",
       "      <td>-20.239028</td>\n",
       "      <td>0.0</td>\n",
       "      <td>0.0</td>\n",
       "      <td>0.0</td>\n",
       "      <td>2264.208825</td>\n",
       "    </tr>\n",
       "    <tr>\n",
       "      <th>1</th>\n",
       "      <td>2023-08-31</td>\n",
       "      <td>2273.396921</td>\n",
       "      <td>2018.413157</td>\n",
       "      <td>2587.612642</td>\n",
       "      <td>2273.396921</td>\n",
       "      <td>2273.396921</td>\n",
       "      <td>32.028816</td>\n",
       "      <td>32.028816</td>\n",
       "      <td>32.028816</td>\n",
       "      <td>32.028816</td>\n",
       "      <td>32.028816</td>\n",
       "      <td>32.028816</td>\n",
       "      <td>0.0</td>\n",
       "      <td>0.0</td>\n",
       "      <td>0.0</td>\n",
       "      <td>2305.425737</td>\n",
       "    </tr>\n",
       "    <tr>\n",
       "      <th>2</th>\n",
       "      <td>2023-09-01</td>\n",
       "      <td>2262.345988</td>\n",
       "      <td>2040.699798</td>\n",
       "      <td>2602.094944</td>\n",
       "      <td>2262.345988</td>\n",
       "      <td>2262.345988</td>\n",
       "      <td>48.228863</td>\n",
       "      <td>48.228863</td>\n",
       "      <td>48.228863</td>\n",
       "      <td>48.228863</td>\n",
       "      <td>48.228863</td>\n",
       "      <td>48.228863</td>\n",
       "      <td>0.0</td>\n",
       "      <td>0.0</td>\n",
       "      <td>0.0</td>\n",
       "      <td>2310.574851</td>\n",
       "    </tr>\n",
       "    <tr>\n",
       "      <th>3</th>\n",
       "      <td>2023-09-02</td>\n",
       "      <td>2251.295055</td>\n",
       "      <td>1965.749483</td>\n",
       "      <td>2541.764924</td>\n",
       "      <td>2251.295055</td>\n",
       "      <td>2251.295055</td>\n",
       "      <td>-0.715078</td>\n",
       "      <td>-0.715078</td>\n",
       "      <td>-0.715078</td>\n",
       "      <td>-0.715078</td>\n",
       "      <td>-0.715078</td>\n",
       "      <td>-0.715078</td>\n",
       "      <td>0.0</td>\n",
       "      <td>0.0</td>\n",
       "      <td>0.0</td>\n",
       "      <td>2250.579977</td>\n",
       "    </tr>\n",
       "    <tr>\n",
       "      <th>4</th>\n",
       "      <td>2023-09-03</td>\n",
       "      <td>2240.244122</td>\n",
       "      <td>1936.119721</td>\n",
       "      <td>2503.650896</td>\n",
       "      <td>2240.244122</td>\n",
       "      <td>2240.244122</td>\n",
       "      <td>-31.789835</td>\n",
       "      <td>-31.789835</td>\n",
       "      <td>-31.789835</td>\n",
       "      <td>-31.789835</td>\n",
       "      <td>-31.789835</td>\n",
       "      <td>-31.789835</td>\n",
       "      <td>0.0</td>\n",
       "      <td>0.0</td>\n",
       "      <td>0.0</td>\n",
       "      <td>2208.454288</td>\n",
       "    </tr>\n",
       "    <tr>\n",
       "      <th>...</th>\n",
       "      <td>...</td>\n",
       "      <td>...</td>\n",
       "      <td>...</td>\n",
       "      <td>...</td>\n",
       "      <td>...</td>\n",
       "      <td>...</td>\n",
       "      <td>...</td>\n",
       "      <td>...</td>\n",
       "      <td>...</td>\n",
       "      <td>...</td>\n",
       "      <td>...</td>\n",
       "      <td>...</td>\n",
       "      <td>...</td>\n",
       "      <td>...</td>\n",
       "      <td>...</td>\n",
       "      <td>...</td>\n",
       "    </tr>\n",
       "    <tr>\n",
       "      <th>789</th>\n",
       "      <td>2025-10-27</td>\n",
       "      <td>1589.477945</td>\n",
       "      <td>-47480.539082</td>\n",
       "      <td>52682.704853</td>\n",
       "      <td>-47629.193730</td>\n",
       "      <td>52751.762912</td>\n",
       "      <td>-2.348181</td>\n",
       "      <td>-2.348181</td>\n",
       "      <td>-2.348181</td>\n",
       "      <td>-2.348181</td>\n",
       "      <td>-2.348181</td>\n",
       "      <td>-2.348181</td>\n",
       "      <td>0.0</td>\n",
       "      <td>0.0</td>\n",
       "      <td>0.0</td>\n",
       "      <td>1587.129765</td>\n",
       "    </tr>\n",
       "    <tr>\n",
       "      <th>790</th>\n",
       "      <td>2025-10-28</td>\n",
       "      <td>1588.012706</td>\n",
       "      <td>-47877.143926</td>\n",
       "      <td>53162.718603</td>\n",
       "      <td>-47807.977346</td>\n",
       "      <td>53078.214931</td>\n",
       "      <td>-25.165558</td>\n",
       "      <td>-25.165558</td>\n",
       "      <td>-25.165558</td>\n",
       "      <td>-25.165558</td>\n",
       "      <td>-25.165558</td>\n",
       "      <td>-25.165558</td>\n",
       "      <td>0.0</td>\n",
       "      <td>0.0</td>\n",
       "      <td>0.0</td>\n",
       "      <td>1562.847148</td>\n",
       "    </tr>\n",
       "    <tr>\n",
       "      <th>791</th>\n",
       "      <td>2025-10-29</td>\n",
       "      <td>1586.547466</td>\n",
       "      <td>-47960.622314</td>\n",
       "      <td>53000.722130</td>\n",
       "      <td>-48084.483404</td>\n",
       "      <td>53302.204988</td>\n",
       "      <td>-20.239028</td>\n",
       "      <td>-20.239028</td>\n",
       "      <td>-20.239028</td>\n",
       "      <td>-20.239028</td>\n",
       "      <td>-20.239028</td>\n",
       "      <td>-20.239028</td>\n",
       "      <td>0.0</td>\n",
       "      <td>0.0</td>\n",
       "      <td>0.0</td>\n",
       "      <td>1566.308437</td>\n",
       "    </tr>\n",
       "    <tr>\n",
       "      <th>792</th>\n",
       "      <td>2025-10-30</td>\n",
       "      <td>1585.082226</td>\n",
       "      <td>-48640.077401</td>\n",
       "      <td>53538.148779</td>\n",
       "      <td>-48360.989462</td>\n",
       "      <td>53508.446281</td>\n",
       "      <td>32.028816</td>\n",
       "      <td>32.028816</td>\n",
       "      <td>32.028816</td>\n",
       "      <td>32.028816</td>\n",
       "      <td>32.028816</td>\n",
       "      <td>32.028816</td>\n",
       "      <td>0.0</td>\n",
       "      <td>0.0</td>\n",
       "      <td>0.0</td>\n",
       "      <td>1617.111042</td>\n",
       "    </tr>\n",
       "    <tr>\n",
       "      <th>793</th>\n",
       "      <td>2025-10-31</td>\n",
       "      <td>1583.616986</td>\n",
       "      <td>-48337.680198</td>\n",
       "      <td>53734.175867</td>\n",
       "      <td>-48637.495520</td>\n",
       "      <td>53714.687575</td>\n",
       "      <td>48.228863</td>\n",
       "      <td>48.228863</td>\n",
       "      <td>48.228863</td>\n",
       "      <td>48.228863</td>\n",
       "      <td>48.228863</td>\n",
       "      <td>48.228863</td>\n",
       "      <td>0.0</td>\n",
       "      <td>0.0</td>\n",
       "      <td>0.0</td>\n",
       "      <td>1631.845849</td>\n",
       "    </tr>\n",
       "  </tbody>\n",
       "</table>\n",
       "<p>794 rows × 16 columns</p>\n",
       "</div>"
      ],
      "text/plain": [
       "            ds        trend    yhat_lower    yhat_upper   trend_lower  \\\n",
       "0   2023-08-30  2284.447853   1977.826979   2558.976958   2284.447853   \n",
       "1   2023-08-31  2273.396921   2018.413157   2587.612642   2273.396921   \n",
       "2   2023-09-01  2262.345988   2040.699798   2602.094944   2262.345988   \n",
       "3   2023-09-02  2251.295055   1965.749483   2541.764924   2251.295055   \n",
       "4   2023-09-03  2240.244122   1936.119721   2503.650896   2240.244122   \n",
       "..         ...          ...           ...           ...           ...   \n",
       "789 2025-10-27  1589.477945 -47480.539082  52682.704853 -47629.193730   \n",
       "790 2025-10-28  1588.012706 -47877.143926  53162.718603 -47807.977346   \n",
       "791 2025-10-29  1586.547466 -47960.622314  53000.722130 -48084.483404   \n",
       "792 2025-10-30  1585.082226 -48640.077401  53538.148779 -48360.989462   \n",
       "793 2025-10-31  1583.616986 -48337.680198  53734.175867 -48637.495520   \n",
       "\n",
       "      trend_upper  additive_terms  additive_terms_lower  additive_terms_upper  \\\n",
       "0     2284.447853      -20.239028            -20.239028            -20.239028   \n",
       "1     2273.396921       32.028816             32.028816             32.028816   \n",
       "2     2262.345988       48.228863             48.228863             48.228863   \n",
       "3     2251.295055       -0.715078             -0.715078             -0.715078   \n",
       "4     2240.244122      -31.789835            -31.789835            -31.789835   \n",
       "..            ...             ...                   ...                   ...   \n",
       "789  52751.762912       -2.348181             -2.348181             -2.348181   \n",
       "790  53078.214931      -25.165558            -25.165558            -25.165558   \n",
       "791  53302.204988      -20.239028            -20.239028            -20.239028   \n",
       "792  53508.446281       32.028816             32.028816             32.028816   \n",
       "793  53714.687575       48.228863             48.228863             48.228863   \n",
       "\n",
       "        weekly  weekly_lower  weekly_upper  multiplicative_terms  \\\n",
       "0   -20.239028    -20.239028    -20.239028                   0.0   \n",
       "1    32.028816     32.028816     32.028816                   0.0   \n",
       "2    48.228863     48.228863     48.228863                   0.0   \n",
       "3    -0.715078     -0.715078     -0.715078                   0.0   \n",
       "4   -31.789835    -31.789835    -31.789835                   0.0   \n",
       "..         ...           ...           ...                   ...   \n",
       "789  -2.348181     -2.348181     -2.348181                   0.0   \n",
       "790 -25.165558    -25.165558    -25.165558                   0.0   \n",
       "791 -20.239028    -20.239028    -20.239028                   0.0   \n",
       "792  32.028816     32.028816     32.028816                   0.0   \n",
       "793  48.228863     48.228863     48.228863                   0.0   \n",
       "\n",
       "     multiplicative_terms_lower  multiplicative_terms_upper         yhat  \n",
       "0                           0.0                         0.0  2264.208825  \n",
       "1                           0.0                         0.0  2305.425737  \n",
       "2                           0.0                         0.0  2310.574851  \n",
       "3                           0.0                         0.0  2250.579977  \n",
       "4                           0.0                         0.0  2208.454288  \n",
       "..                          ...                         ...          ...  \n",
       "789                         0.0                         0.0  1587.129765  \n",
       "790                         0.0                         0.0  1562.847148  \n",
       "791                         0.0                         0.0  1566.308437  \n",
       "792                         0.0                         0.0  1617.111042  \n",
       "793                         0.0                         0.0  1631.845849  \n",
       "\n",
       "[794 rows x 16 columns]"
      ]
     },
     "execution_count": 154,
     "metadata": {},
     "output_type": "execute_result"
    }
   ],
   "source": [
    "forecast"
   ]
  },
  {
   "cell_type": "markdown",
   "id": "deb56de7-6075-46b6-ada6-bead994e5cfc",
   "metadata": {},
   "source": [
    "Строю график предсказаний модели"
   ]
  },
  {
   "cell_type": "code",
   "execution_count": 19,
   "id": "d928b736-5168-432b-aa85-8c9de31ca7e4",
   "metadata": {},
   "outputs": [
    {
     "data": {
      "image/png": "[encoded data removed]",
      "text/plain": [
       "<Figure size 640x480 with 1 Axes>"
      ]
     },
     "metadata": {},
     "output_type": "display_data"
    }
   ],
   "source": [
    "x = np.array(forecast['ds'])\n",
    "y = np.array(forecast['yhat'])\n",
    "\n",
    "plt.plot(x,y)\n",
    "plt.show()"
   ]
  },
  {
   "cell_type": "markdown",
   "id": "22448af1-3718-4382-8066-2bf31f230899",
   "metadata": {},
   "source": [
    "Следуя из показателей модели присутствует тренд на убывание значений."
   ]
  },
  {
   "cell_type": "markdown",
   "id": "d4f762bf-5b30-4b23-9ac6-b71619e9b1c5",
   "metadata": {},
   "source": [
    "Создаю метрик датафрейм для измерений метрик"
   ]
  },
  {
   "cell_type": "code",
   "execution_count": 24,
   "id": "bf3fe813-81b4-4d04-8d20-a49fc84a5199",
   "metadata": {},
   "outputs": [],
   "source": [
    "metric_df = forecast.set_index('ds')[['yhat']].join(rdf.set_index('ds')['y']).reset_index()"
   ]
  },
  {
   "cell_type": "code",
   "execution_count": 25,
   "id": "12a50297-c5cc-4ade-af22-79e5ef462408",
   "metadata": {},
   "outputs": [
    {
     "name": "stdout",
     "output_type": "stream",
     "text": [
      "<class 'pandas.core.frame.DataFrame'>\n",
      "RangeIndex: 123630 entries, 0 to 123629\n",
      "Data columns (total 3 columns):\n",
      " #   Column  Non-Null Count   Dtype         \n",
      "---  ------  --------------   -----         \n",
      " 0   ds      123630 non-null  datetime64[ns]\n",
      " 1   yhat    123630 non-null  float64       \n",
      " 2   y       123265 non-null  float64       \n",
      "dtypes: datetime64[ns](1), float64(2)\n",
      "memory usage: 2.8 MB\n"
     ]
    }
   ],
   "source": [
    "metric_df.info()"
   ]
  },
  {
   "cell_type": "code",
   "execution_count": 26,
   "id": "d7d6753b-836b-40e5-90f5-53658dba4e07",
   "metadata": {},
   "outputs": [
    {
     "data": {
      "text/html": [
       "<div>\n",
       "<style scoped>\n",
       "    .dataframe tbody tr th:only-of-type {\n",
       "        vertical-align: middle;\n",
       "    }\n",
       "\n",
       "    .dataframe tbody tr th {\n",
       "        vertical-align: top;\n",
       "    }\n",
       "\n",
       "    .dataframe thead th {\n",
       "        text-align: right;\n",
       "    }\n",
       "</style>\n",
       "<table border=\"1\" class=\"dataframe\">\n",
       "  <thead>\n",
       "    <tr style=\"text-align: right;\">\n",
       "      <th></th>\n",
       "      <th>ds</th>\n",
       "      <th>yhat</th>\n",
       "      <th>y</th>\n",
       "    </tr>\n",
       "  </thead>\n",
       "  <tbody>\n",
       "    <tr>\n",
       "      <th>123625</th>\n",
       "      <td>2025-10-27</td>\n",
       "      <td>1582.293158</td>\n",
       "      <td>NaN</td>\n",
       "    </tr>\n",
       "    <tr>\n",
       "      <th>123626</th>\n",
       "      <td>2025-10-28</td>\n",
       "      <td>1558.018558</td>\n",
       "      <td>NaN</td>\n",
       "    </tr>\n",
       "    <tr>\n",
       "      <th>123627</th>\n",
       "      <td>2025-10-29</td>\n",
       "      <td>1561.499349</td>\n",
       "      <td>NaN</td>\n",
       "    </tr>\n",
       "    <tr>\n",
       "      <th>123628</th>\n",
       "      <td>2025-10-30</td>\n",
       "      <td>1612.179037</td>\n",
       "      <td>NaN</td>\n",
       "    </tr>\n",
       "    <tr>\n",
       "      <th>123629</th>\n",
       "      <td>2025-10-31</td>\n",
       "      <td>1627.045647</td>\n",
       "      <td>NaN</td>\n",
       "    </tr>\n",
       "  </tbody>\n",
       "</table>\n",
       "</div>"
      ],
      "text/plain": [
       "               ds         yhat   y\n",
       "123625 2025-10-27  1582.293158 NaN\n",
       "123626 2025-10-28  1558.018558 NaN\n",
       "123627 2025-10-29  1561.499349 NaN\n",
       "123628 2025-10-30  1612.179037 NaN\n",
       "123629 2025-10-31  1627.045647 NaN"
      ]
     },
     "execution_count": 26,
     "metadata": {},
     "output_type": "execute_result"
    }
   ],
   "source": [
    "metric_df.tail()"
   ]
  },
  {
   "cell_type": "markdown",
   "id": "3e9df20c-9008-4e07-ab9d-d0639796e1f5",
   "metadata": {},
   "source": [
    "Дропаю невалидные y"
   ]
  },
  {
   "cell_type": "code",
   "execution_count": 30,
   "id": "740da4e5-cb5d-447b-9cf2-33e565d18f41",
   "metadata": {},
   "outputs": [],
   "source": [
    "metric_df.dropna(inplace=True)"
   ]
  },
  {
   "cell_type": "code",
   "execution_count": 31,
   "id": "b64f2ef3-83ef-4243-9b13-71a58ae6db43",
   "metadata": {},
   "outputs": [
    {
     "data": {
      "text/html": [
       "<div>\n",
       "<style scoped>\n",
       "    .dataframe tbody tr th:only-of-type {\n",
       "        vertical-align: middle;\n",
       "    }\n",
       "\n",
       "    .dataframe tbody tr th {\n",
       "        vertical-align: top;\n",
       "    }\n",
       "\n",
       "    .dataframe thead th {\n",
       "        text-align: right;\n",
       "    }\n",
       "</style>\n",
       "<table border=\"1\" class=\"dataframe\">\n",
       "  <thead>\n",
       "    <tr style=\"text-align: right;\">\n",
       "      <th></th>\n",
       "      <th>ds</th>\n",
       "      <th>yhat</th>\n",
       "      <th>y</th>\n",
       "    </tr>\n",
       "  </thead>\n",
       "  <tbody>\n",
       "    <tr>\n",
       "      <th>0</th>\n",
       "      <td>2023-08-30</td>\n",
       "      <td>2263.033738</td>\n",
       "      <td>3157.442001</td>\n",
       "    </tr>\n",
       "    <tr>\n",
       "      <th>1</th>\n",
       "      <td>2023-08-30</td>\n",
       "      <td>2263.033738</td>\n",
       "      <td>3156.994669</td>\n",
       "    </tr>\n",
       "    <tr>\n",
       "      <th>2</th>\n",
       "      <td>2023-08-30</td>\n",
       "      <td>2263.033738</td>\n",
       "      <td>3158.797916</td>\n",
       "    </tr>\n",
       "    <tr>\n",
       "      <th>3</th>\n",
       "      <td>2023-08-30</td>\n",
       "      <td>2263.033738</td>\n",
       "      <td>3157.393767</td>\n",
       "    </tr>\n",
       "    <tr>\n",
       "      <th>4</th>\n",
       "      <td>2023-08-30</td>\n",
       "      <td>2263.033738</td>\n",
       "      <td>3158.723098</td>\n",
       "    </tr>\n",
       "    <tr>\n",
       "      <th>...</th>\n",
       "      <td>...</td>\n",
       "      <td>...</td>\n",
       "      <td>...</td>\n",
       "    </tr>\n",
       "    <tr>\n",
       "      <th>123260</th>\n",
       "      <td>2024-10-31</td>\n",
       "      <td>2149.908769</td>\n",
       "      <td>2107.223503</td>\n",
       "    </tr>\n",
       "    <tr>\n",
       "      <th>123261</th>\n",
       "      <td>2024-10-31</td>\n",
       "      <td>2149.908769</td>\n",
       "      <td>2107.383913</td>\n",
       "    </tr>\n",
       "    <tr>\n",
       "      <th>123262</th>\n",
       "      <td>2024-10-31</td>\n",
       "      <td>2149.908769</td>\n",
       "      <td>2111.521593</td>\n",
       "    </tr>\n",
       "    <tr>\n",
       "      <th>123263</th>\n",
       "      <td>2024-10-31</td>\n",
       "      <td>2149.908769</td>\n",
       "      <td>2105.465290</td>\n",
       "    </tr>\n",
       "    <tr>\n",
       "      <th>123264</th>\n",
       "      <td>2024-10-31</td>\n",
       "      <td>2149.908769</td>\n",
       "      <td>2166.685843</td>\n",
       "    </tr>\n",
       "  </tbody>\n",
       "</table>\n",
       "<p>123265 rows × 3 columns</p>\n",
       "</div>"
      ],
      "text/plain": [
       "               ds         yhat            y\n",
       "0      2023-08-30  2263.033738  3157.442001\n",
       "1      2023-08-30  2263.033738  3156.994669\n",
       "2      2023-08-30  2263.033738  3158.797916\n",
       "3      2023-08-30  2263.033738  3157.393767\n",
       "4      2023-08-30  2263.033738  3158.723098\n",
       "...           ...          ...          ...\n",
       "123260 2024-10-31  2149.908769  2107.223503\n",
       "123261 2024-10-31  2149.908769  2107.383913\n",
       "123262 2024-10-31  2149.908769  2111.521593\n",
       "123263 2024-10-31  2149.908769  2105.465290\n",
       "123264 2024-10-31  2149.908769  2166.685843\n",
       "\n",
       "[123265 rows x 3 columns]"
      ]
     },
     "execution_count": 31,
     "metadata": {},
     "output_type": "execute_result"
    }
   ],
   "source": [
    "metric_df"
   ]
  },
  {
   "cell_type": "markdown",
   "id": "840a94db-3d67-46f5-9b46-c666f1e0732c",
   "metadata": {},
   "source": [
    "MSE"
   ]
  },
  {
   "cell_type": "code",
   "execution_count": 33,
   "id": "3048bc78-6b9f-482e-991f-087683d39a28",
   "metadata": {},
   "outputs": [
    {
     "data": {
      "text/plain": [
       "51034.98907596219"
      ]
     },
     "execution_count": 33,
     "metadata": {},
     "output_type": "execute_result"
    }
   ],
   "source": [
    "mean_squared_error(metric_df.y, metric_df.yhat)"
   ]
  },
  {
   "cell_type": "markdown",
   "id": "6f9a5190-9a84-4b00-af24-159348ef7a38",
   "metadata": {},
   "source": [
    "R^2"
   ]
  },
  {
   "cell_type": "code",
   "execution_count": 162,
   "id": "8d29072f-02f4-4698-9db2-2c54465bc02d",
   "metadata": {},
   "outputs": [
    {
     "data": {
      "text/plain": [
       "0.5583817159587501"
      ]
     },
     "execution_count": 162,
     "metadata": {},
     "output_type": "execute_result"
    }
   ],
   "source": [
    "r2_score(metric_df.y, metric_df.yhat)"
   ]
  },
  {
   "cell_type": "markdown",
   "id": "42891a6a-06e2-495a-b66e-926e77689e27",
   "metadata": {},
   "source": [
    "MAE"
   ]
  },
  {
   "cell_type": "code",
   "execution_count": 35,
   "id": "11ee1da0-6608-4a0c-9585-f2f92ca2c8b5",
   "metadata": {},
   "outputs": [
    {
     "data": {
      "text/plain": [
       "104.49022784140205"
      ]
     },
     "execution_count": 35,
     "metadata": {},
     "output_type": "execute_result"
    }
   ],
   "source": [
    "mean_absolute_error(metric_df.y, metric_df.yhat)"
   ]
  },
  {
   "cell_type": "markdown",
   "id": "0458282d-6694-4b4d-8012-6cf657ccf30f",
   "metadata": {},
   "source": [
    "Следуя из средних показателей модели, есть что можно было улучшить."
   ]
  },
  {
   "cell_type": "code",
   "execution_count": null,
   "id": "9ec09bb5-518b-4edb-b065-2a6c351146c5",
   "metadata": {},
   "outputs": [],
   "source": []
  }
 ],
 "metadata": {
  "kernelspec": {
   "display_name": "Python 3 (ipykernel)",
   "language": "python",
   "name": "python3"
  },
  "language_info": {
   "codemirror_mode": {
    "name": "ipython",
    "version": 3
   },
   "file_extension": ".py",
   "mimetype": "text/x-python",
   "name": "python",
   "nbconvert_exporter": "python",
   "pygments_lexer": "ipython3",
   "version": "3.10.14"
  }
 },
 "nbformat": 4,
 "nbformat_minor": 5
}
